{
 "cells": [
  {
   "cell_type": "code",
   "execution_count": 77,
   "metadata": {},
   "outputs": [],
   "source": [
    "import pandas as pd\n",
    "import numpy as np"
   ]
  },
  {
   "cell_type": "code",
   "execution_count": 78,
   "metadata": {},
   "outputs": [],
   "source": [
    "data_2016 = pd.read_csv('census_data_2016.csv')\n",
    "data_2012 = pd.read_csv('census_Data_2012.csv')"
   ]
  },
  {
   "cell_type": "code",
   "execution_count": 79,
   "metadata": {},
   "outputs": [
    {
     "output_type": "stream",
     "name": "stdout",
     "text": "{'US': '61.4', 'ALABAMA': '57.4', 'ALASKA': '61.3', 'ARIZONA': '60.4', 'ARKANSAS': '58.7', 'CALIFORNIA': '57.9', 'COLORADO': '69.5', 'CONNECTICUT': '63.9', 'DELAWARE': '62.3', 'DISTRICT OF COLUMBIA': '74.3', 'FLORIDA': '59.5', 'GEORGIA': '60.2', 'HAWAII': '47.3', 'IDAHO': '62.1', 'ILLINOIS': '63.8', 'INDIANA': '58.3', 'IOWA': '63.4', 'KANSAS': '61.3', 'KENTUCKY': '57.0', 'LOUISIANA': '61.6', 'MAINE': '72.7', 'MARYLAND': '65.8', 'MASSACHUSETTS': '66.7', 'MICHIGAN': '64.3', 'MINNESOTA': '68.7', 'MISSISSIPPI': '67.7', 'MISSOURI': '64.8', 'MONTANA': '65.9', 'NEBRASKA': '66.8', 'NEVADA': '60.5', 'NEW HAMPSHIRE': '69.0', 'NEW JERSEY': '61.5', 'NEW MEXICO': '54.8', 'NEW YORK': '57.2', 'NORTH CAROLINA': '67.5', 'NORTH DAKOTA': '64.2', 'OHIO': '63.6', 'OKLAHOMA': '56.6', 'OREGON': '66.3', 'PENNSYLVANIA': '62.6', 'RHODE ISLAND': '60.6', 'SOUTH CAROLINA': '62.1', 'SOUTH DAKOTA': '59.1', 'TENNESSEE': '54.0', 'TEXAS': '55.4', 'UTAH': '62.7', 'VERMONT': '62.5', 'VIRGINIA': '68.2', 'WASHINGTON': '66.3', 'WEST VIRGINIA': '50.8', 'WISCONSIN': '70.5', 'WYOMING': '64.8'}\n{'US': '65.3', 'ALABAMA': '57.0', 'ALASKA': '68.7', 'ARIZONA': '68.3', 'ARKANSAS': '60.2', 'CALIFORNIA': '67.1', 'COLORADO': '73.0', 'CONNECTICUT': '67.8', 'DELAWARE': '66.3', 'DISTRICT OF COLUMBIA': '81.9', 'FLORIDA': '63.8', 'GEORGIA': '63.8', 'HAWAII': '61.3', 'IDAHO': '65.1', 'ILLINOIS': '67.8', 'INDIANA': '59.4', 'IOWA': '64.8', 'KANSAS': '65.3', 'KENTUCKY': '56.7', 'LOUISIANA': '62.5', 'MAINE': '73.3', 'MARYLAND': '67.1', 'MASSACHUSETTS': '70.3', 'MICHIGAN': '66.5', 'MINNESOTA': '71.0', 'MISSISSIPPI': '67.7', 'MISSOURI': '65.8', 'MONTANA': '67.3', 'NEBRASKA': '70.3', 'NEVADA': '63.2', 'NEW HAMPSHIRE': '69.7', 'NEW JERSEY': '66.9', 'NEW MEXICO': '69.2', 'NEW YORK': '61.1', 'NORTH CAROLINA': '69.5', 'NORTH DAKOTA': '67.9', 'OHIO': '64.4', 'OKLAHOMA': '60.5', 'OREGON': '68.8', 'PENNSYLVANIA': '63.3', 'RHODE ISLAND': '61.7', 'SOUTH CAROLINA': '61.5', 'SOUTH DAKOTA': '61.9', 'TENNESSEE': '56.8', 'TEXAS': '62.9', 'UTAH': '64.4', 'VERMONT': '63.1', 'VIRGINIA': '69.6', 'WASHINGTON': '71.7', 'WEST VIRGINIA': '50.7', 'WISCONSIN': '74.0', 'WYOMING': '66.8'}\n{'US': '59.4', 'ALABAMA': '60.8', 'ALASKA': 'B', 'ARIZONA': '50.9', 'ARKANSAS': '58.8', 'CALIFORNIA': '48.4', 'COLORADO': '74.1', 'CONNECTICUT': '53.5', 'DELAWARE': '56.5', 'DISTRICT OF COLUMBIA': '68.0', 'FLORIDA': '50.5', 'GEORGIA': '59.7', 'HAWAII': 'B', 'IDAHO': 'B', 'ILLINOIS': '58.7', 'INDIANA': '51.6', 'IOWA': 'B', 'KANSAS': '44.5', 'KENTUCKY': '69.1', 'LOUISIANA': '61.3', 'MAINE': 'B', 'MARYLAND': '66.6', 'MASSACHUSETTS': '65.8', 'MICHIGAN': '61.0', 'MINNESOTA': '66.3', 'MISSISSIPPI': '69.1', 'MISSOURI': '66.2', 'MONTANA': 'B', 'NEBRASKA': 'B', 'NEVADA': '65.1', 'NEW HAMPSHIRE': 'B', 'NEW JERSEY': '57.6', 'NEW MEXICO': 'B', 'NEW YORK': '58.2', 'NORTH CAROLINA': '69.1', 'NORTH DAKOTA': 'B', 'OHIO': '65.2', 'OKLAHOMA': '57.3', 'OREGON': 'B', 'PENNSYLVANIA': '63.2', 'RHODE ISLAND': 'B', 'SOUTH CAROLINA': '65.2', 'SOUTH DAKOTA': 'B', 'TENNESSEE': '50.3', 'TEXAS': '57.2', 'UTAH': 'B', 'VERMONT': 'B', 'VIRGINIA': '64.9', 'WASHINGTON': '42.6', 'WEST VIRGINIA': 'B', 'WISCONSIN': '46.8', 'WYOMING': 'B'}\n{'US': '49.0', 'ALABAMA': 'B', 'ALASKA': 'B', 'ARIZONA': '51.6', 'ARKANSAS': 'B', 'CALIFORNIA': '51.9', 'COLORADO': '33.4', 'CONNECTICUT': 'B', 'DELAWARE': 'B', 'DISTRICT OF COLUMBIA': 'B', 'FLORIDA': '40.4', 'GEORGIA': '31.3', 'HAWAII': '43.6', 'IDAHO': 'B', 'ILLINOIS': '51.3', 'INDIANA': 'B', 'IOWA': 'B', 'KANSAS': 'B', 'KENTUCKY': 'B', 'LOUISIANA': 'B', 'MAINE': 'B', 'MARYLAND': '54.9', 'MASSACHUSETTS': '50.8', 'MICHIGAN': '54.2', 'MINNESOTA': '51.6', 'MISSISSIPPI': 'B', 'MISSOURI': 'B', 'MONTANA': 'B', 'NEBRASKA': 'B', 'NEVADA': '44.4', 'NEW HAMPSHIRE': 'B', 'NEW JERSEY': '52.9', 'NEW MEXICO': 'B', 'NEW YORK': '34.5', 'NORTH CAROLINA': '58.5', 'NORTH DAKOTA': 'B', 'OHIO': '46.8', 'OKLAHOMA': 'B', 'OREGON': 'B', 'PENNSYLVANIA': '60.3', 'RHODE ISLAND': 'B', 'SOUTH CAROLINA': 'B', 'SOUTH DAKOTA': 'B', 'TENNESSEE': 'B', 'TEXAS': '47.3', 'UTAH': 'B', 'VERMONT': 'B', 'VIRGINIA': '69.9', 'WASHINGTON': '69.0', 'WEST VIRGINIA': 'B', 'WISCONSIN': 'B', 'WYOMING': 'B'}\n{'US': '47.6', 'ALABAMA': 'B', 'ALASKA': 'B', 'ARIZONA': '47.4', 'ARKANSAS': 'B', 'CALIFORNIA': '47.2', 'COLORADO': '55.6', 'CONNECTICUT': '47.2', 'DELAWARE': 'B', 'DISTRICT OF COLUMBIA': 'B', 'FLORIDA': '54.1', 'GEORGIA': '47.9', 'HAWAII': 'B', 'IDAHO': '42.9', 'ILLINOIS': '49.2', 'INDIANA': '46.0', 'IOWA': 'B', 'KANSAS': '48.9', 'KENTUCKY': 'B', 'LOUISIANA': '67.9', 'MAINE': 'B', 'MARYLAND': '59.1', 'MASSACHUSETTS': '44.6', 'MICHIGAN': '36.0', 'MINNESOTA': '36.6', 'MISSISSIPPI': 'B', 'MISSOURI': 'B', 'MONTANA': 'B', 'NEBRASKA': 'B', 'NEVADA': '56.6', 'NEW HAMPSHIRE': 'B', 'NEW JERSEY': '43.2', 'NEW MEXICO': '48.2', 'NEW YORK': '50.6', 'NORTH CAROLINA': '53.1', 'NORTH DAKOTA': 'B', 'OHIO': '57.8', 'OKLAHOMA': '33.4', 'OREGON': '54.9', 'PENNSYLVANIA': '51.7', 'RHODE ISLAND': 'B', 'SOUTH CAROLINA': 'B', 'SOUTH DAKOTA': 'B', 'TENNESSEE': '21.7', 'TEXAS': '40.5', 'UTAH': '58.1', 'VERMONT': 'B', 'VIRGINIA': '64.2', 'WASHINGTON': '47.2', 'WEST VIRGINIA': 'B', 'WISCONSIN': '42.8', 'WYOMING': 'B'}\n"
    }
   ],
   "source": [
    "totals_2016 = data_2016.loc[data_2016['Sex, Race and Hispanic-Origin'] == 'Total']\n",
    "white_2016 = data_2016.loc[data_2016['Sex, Race and Hispanic-Origin'] == 'White non-Hispanic alone']\n",
    "black_2016 = data_2016.loc[data_2016['Sex, Race and Hispanic-Origin'] == 'Black alone']\n",
    "asian_2016 = data_2016.loc[data_2016['Sex, Race and Hispanic-Origin'] == 'Asian alone']\n",
    "hispanic_2016 = data_2016.loc[data_2016['Sex, Race and Hispanic-Origin'] == 'Hispanic (of any race)']\n",
    "\n",
    "total_percent_voted_2016 = {}\n",
    "for i in range(totals_2016.shape[0]):\n",
    "    total_percent_voted_2016[totals_2016['STATE'][i * 11]] = totals_2016['Percent voted (Citizen)'][i * 11]\n",
    "print(total_percent_voted_2016)\n",
    "\n",
    "white_percent_voted_2016 = {}\n",
    "for i in range(totals_2016.shape[0]):\n",
    "    white_percent_voted_2016[white_2016['STATE'][i*11 + 4]] = white_2016['Percent voted (Citizen)'][i * 11 + 4]\n",
    "print(white_percent_voted_2016)\n",
    "\n",
    "black_percent_voted_2016 = {}\n",
    "for i in range(totals_2016.shape[0]):\n",
    "    black_percent_voted_2016[black_2016['STATE'][i*11 + 5]] = black_2016['Percent voted (Citizen)'][i * 11 + 5]\n",
    "print(black_percent_voted_2016)\n",
    "\n",
    "asian_percent_voted_2016 = {}\n",
    "for i in range(totals_2016.shape[0]):\n",
    "    asian_percent_voted_2016[asian_2016['STATE'][i*11 + 6]] = asian_2016['Percent voted (Citizen)'][i * 11 + 6]\n",
    "print(asian_percent_voted_2016)\n",
    "\n",
    "hispanic_percent_voted_2016 = {}\n",
    "for i in range(totals_2016.shape[0]):\n",
    "    hispanic_percent_voted_2016[hispanic_2016['STATE'][i*11 + 7]] = hispanic_2016['Percent voted (Citizen)'][i * 11 + 7]\n",
    "print(hispanic_percent_voted_2016)"
   ]
  },
  {
   "cell_type": "code",
   "execution_count": 88,
   "metadata": {
    "tags": [
     "outputPrepend"
    ]
   },
   "outputs": [
    {
     "output_type": "stream",
     "name": "stdout",
     "text": "{'All': '61.8', 'ALABAMA': '61.9', 'ALASKA': '58.4', 'ARIZONA': '55.9', 'ARKANSAS': '53.3', 'CALIFORNIA': '57.5', 'COLORADO': '70.4', 'CONNECTICUT': '62.7', 'DELAWARE': '67.3', 'DISTRICT OF COLUMBIA': '75.9', 'FLORIDA': '60.8', 'GEORGIA': '61.9', 'HAWAII': '51.6', 'IDAHO': '63.9', 'ILLINOIS': '61.5', 'INDIANA': '59.3', 'IOWA': '69.4', 'KANSAS': '63.3', 'KENTUCKY': '59.3', 'LOUISIANA': '66.3', 'MAINE': '68.6', 'MARYLAND': '65.1', 'MASSACHUSETTS': '70.8', 'MICHIGAN': '66.8', 'MINNESOTA': '73.2', 'MISSISSIPPI': '74.5', 'MISSOURI': '63.9', 'MONTANA': '65.7', 'NEBRASKA': '61.6', 'NEVADA': '57.9', 'NEW HAMPSHIRE': '69.4', 'NEW JERSEY': '61.9', 'NEW MEXICO': '61.6', 'NEW YORK': '58.7', 'NORTH CAROLINA': '68.9', 'NORTH DAKOTA': '63.9', 'OHIO': '63.1', 'OKLAHOMA': '52.4', 'OREGON': '67.6', 'PENNSYLVANIA': '61.6', 'RHODE ISLAND': '62.5', 'SOUTH CAROLINA': '64.7', 'SOUTH DAKOTA': '61.0', 'TENNESSEE': '55.7', 'TEXAS': '53.8', 'UTAH': '57.0', 'VERMONT': '63.3', 'VIRGINIA': '66.9', 'WASHINGTON': '65.6', 'WEST VIRGINIA': '47.8', 'WISCONSIN': '73.6', 'WYOMING': '58.9'}\n{'All': '64.1', 'ALABAMA': '62.0', 'ALASKA': '63.9', 'ARIZONA': '62.4', 'ARKANSAS': '55.7', 'CALIFORNIA': '64.3', 'COLORADO': '75.2', 'CONNECTICUT': '65.8', 'DELAWARE': '69.9', 'DISTRICT OF COLUMBIA': '76.7', 'FLORIDA': '61.9', 'GEORGIA': '62.0', 'HAWAII': '68.2', 'IDAHO': '66.4', 'ILLINOIS': '62.2', 'INDIANA': '59.3', 'IOWA': '70.7', 'KANSAS': '67.0', 'KENTUCKY': '59.7', 'LOUISIANA': '65.2', 'MAINE': '69.1', 'MARYLAND': '65.6', 'MASSACHUSETTS': '73.2', 'MICHIGAN': '67.9', 'MINNESOTA': '74.5', 'MISSISSIPPI': '71.8', 'MISSOURI': '64.2', 'MONTANA': '67.2', 'NEBRASKA': '63.6', 'NEVADA': '60.3', 'NEW HAMPSHIRE': '70.0', 'NEW JERSEY': '63.4', 'NEW MEXICO': '70.5', 'NEW YORK': '59.4', 'NORTH CAROLINA': '66.3', 'NORTH DAKOTA': '66.0', 'OHIO': '61.9', 'OKLAHOMA': '55.9', 'OREGON': '70.2', 'PENNSYLVANIA': '62.5', 'RHODE ISLAND': '63.3', 'SOUTH CAROLINA': '63.5', 'SOUTH DAKOTA': '64.3', 'TENNESSEE': '54.8', 'TEXAS': '60.9', 'UTAH': '61.0', 'VERMONT': '63.2', 'VIRGINIA': '67.5', 'WASHINGTON': '68.0', 'WEST VIRGINIA': '48.1', 'WISCONSIN': '75.0', 'WYOMING': '62.3'}\n{'All': '66.2', 'ALABAMA': '63.1', 'ALASKA': '(B)', 'ARIZONA': '46.0', 'ARKANSAS': '49.4', 'CALIFORNIA': '61.1', 'COLORADO': '55.6', 'CONNECTICUT': '62.2', 'DELAWARE': '63.7', 'DISTRICT OF COLUMBIA': '76.8', 'FLORIDA': '57.6', 'GEORGIA': '65.0', 'HAWAII': '(B)', 'IDAHO': '(B)', 'ILLINOIS': '71.8', 'INDIANA': '68.4', 'IOWA': '(B)', 'KANSAS': '52.4', 'KENTUCKY': '56.9', 'LOUISIANA': '69.5', 'MAINE': '(B)', 'MARYLAND': '67.5', 'MASSACHUSETTS': '65.6', 'MICHIGAN': '63.3', 'MINNESOTA': '62.1', 'MISSISSIPPI': '82.4', 'MISSOURI': '67.3', 'MONTANA': '(B)', 'NEBRASKA': '(B)', 'NEVADA': '61.8', 'NEW HAMPSHIRE': '(B)', 'NEW JERSEY': '68.5', 'NEW MEXICO': '(B)', 'NEW YORK': '69.2', 'NORTH CAROLINA': '80.2', 'NORTH DAKOTA': '(B)', 'OHIO': '71.7', 'OKLAHOMA': '54.6', 'OREGON': '(B)', 'PENNSYLVANIA': '65.2', 'RHODE ISLAND': '(B)', 'SOUTH CAROLINA': '69.3', 'SOUTH DAKOTA': '(B)', 'TENNESSEE': '61.1', 'TEXAS': '63.1', 'UTAH': '(B)', 'VERMONT': '(B)', 'VIRGINIA': '67.2', 'WASHINGTON': '48.3', 'WEST VIRGINIA': '(B)', 'WISCONSIN': '78.5', 'WYOMING': '(B)'}\n{'All': '47.3', 'ALABAMA': '(B)', 'ALASKA': '(B)', 'ARIZONA': '27.1', 'ARKANSAS': '(B)', 'CALIFORNIA': '48.6', 'COLORADO': '31.6', 'CONNECTICUT': '29.0', 'DELAWARE': '(B)', 'DISTRICT OF COLUMBIA': '(B)', 'FLORIDA': '43.0', 'GEORGIA': '41.9', 'HAWAII': '49.7', 'IDAHO': '(B)', 'ILLINOIS': '55.4', 'INDIANA': '(B)', 'IOWA': '(B)', 'KANSAS': '(B)', 'KENTUCKY': '(B)', 'LOUISIANA': '(B)', 'MAINE': '(B)', 'MARYLAND': '50.4', 'MASSACHUSETTS': '44.5', 'MICHIGAN': '51.6', 'MINNESOTA': '78.1', 'MISSISSIPPI': '(B)', 'MISSOURI': '(B)', 'MONTANA': '(B)', 'NEBRASKA': '(B)', 'NEVADA': '58.8', 'NEW HAMPSHIRE': '(B)', 'NEW JERSEY': '48.1', 'NEW MEXICO': '(B)', 'NEW YORK': '39.2', 'NORTH CAROLINA': '(B)', 'NORTH DAKOTA': '(B)', 'OHIO': '(B)', 'OKLAHOMA': '(B)', 'OREGON': '(B)', 'PENNSYLVANIA': '47.6', 'RHODE ISLAND': '(B)', 'SOUTH CAROLINA': '(B)', 'SOUTH DAKOTA': '(B)', 'TENNESSEE': '(B)', 'TEXAS': '42.4', 'UTAH': '(B)', 'VERMONT': '(B)', 'VIRGINIA': '53.0', 'WASHINGTON': '66.0', 'WEST VIRGINIA': '(B)', 'WISCONSIN': '(B)', 'WYOMING': '(B)'}\n{'All': '48.0', 'ALABAMA': '(B)', 'ALASKA': '(B)', 'ARIZONA': '40.4', 'ARKANSAS': '(B)', 'CALIFORNIA': '48.5', 'COLORADO': '52.1', 'CONNECTICUT': '47.0', 'DELAWARE': '(B)', 'DISTRICT OF COLUMBIA': '(B)', 'FLORIDA': '62.2', 'GEORGIA': '47.8', 'HAWAII': '(B)', 'IDAHO': '(B)', 'ILLINOIS': '38.3', 'INDIANA': '41.1', 'IOWA': '(B)', 'KANSAS': '30.2', 'KENTUCKY': '(B)', 'LOUISIANA': '(B)', 'MAINE': '(B)', 'MARYLAND': '58.7', 'MASSACHUSETTS': '62.7', 'MICHIGAN': '70.3', 'MINNESOTA': '45.7', 'MISSISSIPPI': '(B)', 'MISSOURI': '60.7', 'MONTANA': '(B)', 'NEBRASKA': '(B)', 'NEVADA': '52.0', 'NEW HAMPSHIRE': '(B)', 'NEW JERSEY': '51.1', 'NEW MEXICO': '56.2', 'NEW YORK': '53.9', 'NORTH CAROLINA': '56.0', 'NORTH DAKOTA': '(B)', 'OHIO': '56.9', 'OKLAHOMA': '28.7', 'OREGON': '50.0', 'PENNSYLVANIA': '45.1', 'RHODE ISLAND': '(B)', 'SOUTH CAROLINA': '(B)', 'SOUTH DAKOTA': '(B)', 'TENNESSEE': '62.3', 'TEXAS': '38.8', 'UTAH': '32.1', 'VERMONT': '(B)', 'VIRGINIA': '66.8', 'WASHINGTON': '46.6', 'WEST VIRGINIA': '(B)', 'WISCONSIN': '43.9', 'WYOMING': '(B)'}\n"
    }
   ],
   "source": [
    "totals_2012 = data_2012.loc[data_2012['Race and Hispanic origin'] == 'Total']\n",
    "white_2012 = data_2012.loc[data_2012['Race and Hispanic origin'] == '.White non-Hispanic alone']\n",
    "black_2012 = data_2012.loc[data_2012['Race and Hispanic origin'] == 'Black alone']\n",
    "asian_2012 = data_2012.loc[data_2012['Race and Hispanic origin'] == 'Asian alone']\n",
    "hispanic_2012 = data_2012.loc[data_2012['Race and Hispanic origin'] == 'Hispanic (of any race)']\n",
    "\n",
    "total_percent_voted_2012 = {}\n",
    "for i in range(totals_2012.shape[0]):\n",
    "    total_percent_voted_2012[totals_2012['State'][i * 11]] = totals_2012['Percent voted (Citizen)'][i * 11]\n",
    "print(total_percent_voted_2012)\n",
    "\n",
    "white_percent_voted_2012 = {}\n",
    "for i in range(totals_2012.shape[0]):\n",
    "    white_percent_voted_2012[totals_2012['State'][i*11]] = white_2012['Percent voted (Citizen)'][i * 11 + 4]\n",
    "print(white_percent_voted_2012)\n",
    "\n",
    "black_percent_voted_2012 = {}\n",
    "for i in range(totals_2012.shape[0]):\n",
    "    black_percent_voted_2012[totals_2012['State'][i*11]] = black_2012['Percent voted (Citizen)'][i * 11 + 5]\n",
    "print(black_percent_voted_2012)\n",
    "\n",
    "asian_percent_voted_2012 = {}\n",
    "for i in range(totals_2012.shape[0]):\n",
    "    asian_percent_voted_2012[totals_2012['State'][i*11]] = asian_2012['Percent voted (Citizen)'][i * 11 + 6]\n",
    "print(asian_percent_voted_2012)\n",
    "\n",
    "hispanic_percent_voted_2012 = {}\n",
    "for i in range(totals_2012.shape[0]):\n",
    "    hispanic_percent_voted_2012[totals_2012['State'][i*11]] = hispanic_2012['Percent voted (Citizen)'][i * 11 + 7]\n",
    "print(hispanic_percent_voted_2012)"
   ]
  },
  {
   "cell_type": "code",
   "execution_count": 81,
   "metadata": {},
   "outputs": [
    {
     "output_type": "stream",
     "name": "stdout",
     "text": "States that have < 50% voting 2016\n----------------total----------------\nHAWAII\n----------------white----------------\n----------------black----------------\nCALIFORNIA\nKANSAS\nWASHINGTON\nWISCONSIN\n----------------asian----------------\nUS\nCOLORADO\nFLORIDA\nGEORGIA\nHAWAII\nNEVADA\nNEW YORK\nOHIO\nTEXAS\n----------------hispanic----------------\nUS\nARIZONA\nCALIFORNIA\nCONNECTICUT\nGEORGIA\nIDAHO\nILLINOIS\nINDIANA\nKANSAS\nMASSACHUSETTS\nMICHIGAN\nMINNESOTA\nNEW JERSEY\nNEW MEXICO\nOKLAHOMA\nTENNESSEE\nTEXAS\nWASHINGTON\nWISCONSIN\n"
    }
   ],
   "source": [
    "print(\"States that have < 50% voting 2016\")\n",
    "\n",
    "print(\"----------------\" + \"total\" + \"----------------\")\n",
    "for key in total_percent_voted_2016:\n",
    "    if float(total_percent_voted_2016[key]) < 50:\n",
    "        print(key)\n",
    "\n",
    "print(\"----------------\" + \"white\" + \"----------------\")\n",
    "for key in white_percent_voted_2016:\n",
    "    try:\n",
    "        if float(white_percent_voted_2016[key]) < 50:\n",
    "            print(key)    \n",
    "    except:\n",
    "        pass\n",
    "\n",
    "print(\"----------------\" + \"black\" + \"----------------\")\n",
    "for key in black_percent_voted_2016:\n",
    "    try:\n",
    "        if float(black_percent_voted_2016[key]) < 50:\n",
    "            print(key)    \n",
    "    except:\n",
    "        pass\n",
    "\n",
    "print(\"----------------\" + \"asian\" + \"----------------\")\n",
    "for key in asian_percent_voted_2016:\n",
    "    try:\n",
    "        if float(asian_percent_voted_2016[key]) < 50:\n",
    "            print(key)    \n",
    "    except:\n",
    "        pass\n",
    "\n",
    "print(\"----------------\" + \"hispanic\" + \"----------------\")\n",
    "for key in hispanic_percent_voted_2016:\n",
    "    try:\n",
    "        if float(hispanic_percent_voted_2016[key]) < 50:\n",
    "            print(key)    \n",
    "    except:\n",
    "        pass"
   ]
  },
  {
   "cell_type": "code",
   "execution_count": 89,
   "metadata": {},
   "outputs": [
    {
     "output_type": "stream",
     "name": "stdout",
     "text": "States that have < 50% voting 2012\n----------------total----------------\nWEST VIRGINIA\n----------------white----------------\nWEST VIRGINIA\n----------------black----------------\nARIZONA\nARKANSAS\nWASHINGTON\n----------------asian----------------\nAll\nARIZONA\nCALIFORNIA\nCOLORADO\nCONNECTICUT\nFLORIDA\nGEORGIA\nHAWAII\nMASSACHUSETTS\nNEW JERSEY\nNEW YORK\nPENNSYLVANIA\nTEXAS\n----------------hispanic----------------\nAll\nARIZONA\nCALIFORNIA\nCONNECTICUT\nGEORGIA\nILLINOIS\nINDIANA\nKANSAS\nMINNESOTA\nOKLAHOMA\nPENNSYLVANIA\nTEXAS\nUTAH\nWASHINGTON\nWISCONSIN\n"
    }
   ],
   "source": [
    "print(\"States that have < 50% voting 2012\")\n",
    "\n",
    "print(\"----------------\" + \"total\" + \"----------------\")\n",
    "for key in total_percent_voted_2012:\n",
    "    if float(total_percent_voted_2012[key]) < 50:\n",
    "        print(key)\n",
    "\n",
    "print(\"----------------\" + \"white\" + \"----------------\")\n",
    "for key in white_percent_voted_2012:\n",
    "    try:\n",
    "        if float(white_percent_voted_2012[key]) < 50:\n",
    "            print(key)    \n",
    "    except:\n",
    "        pass\n",
    "\n",
    "print(\"----------------\" + \"black\" + \"----------------\")\n",
    "for key in black_percent_voted_2012:\n",
    "    try:\n",
    "        if float(black_percent_voted_2012[key]) < 50:\n",
    "            print(key)    \n",
    "    except:\n",
    "        pass\n",
    "\n",
    "print(\"----------------\" + \"asian\" + \"----------------\")\n",
    "for key in asian_percent_voted_2012:\n",
    "    try:\n",
    "        if float(asian_percent_voted_2012[key]) < 50:\n",
    "            print(key)    \n",
    "    except:\n",
    "        pass\n",
    "\n",
    "print(\"----------------\" + \"hispanic\" + \"----------------\")\n",
    "for key in hispanic_percent_voted_2012:\n",
    "    try:\n",
    "        if float(hispanic_percent_voted_2012[key]) < 50:\n",
    "            print(key)    \n",
    "    except:\n",
    "        pass"
   ]
  },
  {
   "cell_type": "code",
   "execution_count": 82,
   "metadata": {},
   "outputs": [
    {
     "output_type": "stream",
     "name": "stdout",
     "text": "difference between voting rates for whites and other races 2016\n----------------US----------------\ndifference white and black: 5.899999999999999\ndifference white and asian: 16.299999999999997\ndifference white and hispanic: 17.699999999999996\n\n----------------ALABAMA----------------\ndifference white and black: -3.799999999999997\nasian population in ALABAMA too small to analyze\nhispanic population in ALABAMA too small to analyze\n\n----------------ALASKA----------------\nblack population in ALASKA too small to analyze\nasian population in ALASKA too small to analyze\nhispanic population in ALASKA too small to analyze\n\n----------------ARIZONA----------------\ndifference white and black: 17.4\ndifference white and asian: 16.699999999999996\ndifference white and hispanic: 20.9\n\n----------------ARKANSAS----------------\ndifference white and black: 1.4000000000000057\nasian population in ARKANSAS too small to analyze\nhispanic population in ARKANSAS too small to analyze\n\n----------------CALIFORNIA----------------\ndifference white and black: 18.699999999999996\ndifference white and asian: 15.199999999999996\ndifference white and hispanic: 19.89999999999999\n\n----------------COLORADO----------------\ndifference white and black: -1.0999999999999943\ndifference white and asian: 39.6\ndifference white and hispanic: 17.4\n\n----------------CONNECTICUT----------------\ndifference white and black: 14.299999999999997\nasian population in CONNECTICUT too small to analyze\ndifference white and hispanic: 20.599999999999994\n\n----------------DELAWARE----------------\ndifference white and black: 9.799999999999997\nasian population in DELAWARE too small to analyze\nhispanic population in DELAWARE too small to analyze\n\n----------------DISTRICT OF COLUMBIA----------------\ndifference white and black: 13.900000000000006\nasian population in DISTRICT OF COLUMBIA too small to analyze\nhispanic population in DISTRICT OF COLUMBIA too small to analyze\n\n----------------FLORIDA----------------\ndifference white and black: 13.299999999999997\ndifference white and asian: 23.4\ndifference white and hispanic: 9.699999999999996\n\n----------------GEORGIA----------------\ndifference white and black: 4.099999999999994\ndifference white and asian: 32.5\ndifference white and hispanic: 15.899999999999999\n\n----------------HAWAII----------------\nblack population in HAWAII too small to analyze\ndifference white and asian: 17.699999999999996\nhispanic population in HAWAII too small to analyze\n\n----------------IDAHO----------------\nblack population in IDAHO too small to analyze\nasian population in IDAHO too small to analyze\ndifference white and hispanic: 22.199999999999996\n\n----------------ILLINOIS----------------\ndifference white and black: 9.099999999999994\ndifference white and asian: 16.5\ndifference white and hispanic: 18.599999999999994\n\n----------------INDIANA----------------\ndifference white and black: 7.799999999999997\nasian population in INDIANA too small to analyze\ndifference white and hispanic: 13.399999999999999\n\n----------------IOWA----------------\nblack population in IOWA too small to analyze\nasian population in IOWA too small to analyze\nhispanic population in IOWA too small to analyze\n\n----------------KANSAS----------------\ndifference white and black: 20.799999999999997\nasian population in KANSAS too small to analyze\ndifference white and hispanic: 16.4\n\n----------------KENTUCKY----------------\ndifference white and black: -12.399999999999991\nasian population in KENTUCKY too small to analyze\nhispanic population in KENTUCKY too small to analyze\n\n----------------LOUISIANA----------------\ndifference white and black: 1.2000000000000028\nasian population in LOUISIANA too small to analyze\ndifference white and hispanic: -5.400000000000006\n\n----------------MAINE----------------\nblack population in MAINE too small to analyze\nasian population in MAINE too small to analyze\nhispanic population in MAINE too small to analyze\n\n----------------MARYLAND----------------\ndifference white and black: 0.5\ndifference white and asian: 12.199999999999996\ndifference white and hispanic: 7.999999999999993\n\n----------------MASSACHUSETTS----------------\ndifference white and black: 4.5\ndifference white and asian: 19.5\ndifference white and hispanic: 25.699999999999996\n\n----------------MICHIGAN----------------\ndifference white and black: 5.5\ndifference white and asian: 12.299999999999997\ndifference white and hispanic: 30.5\n\n----------------MINNESOTA----------------\ndifference white and black: 4.700000000000003\ndifference white and asian: 19.4\ndifference white and hispanic: 34.4\n\n----------------MISSISSIPPI----------------\ndifference white and black: -1.3999999999999915\nasian population in MISSISSIPPI too small to analyze\nhispanic population in MISSISSIPPI too small to analyze\n\n----------------MISSOURI----------------\ndifference white and black: -0.4000000000000057\nasian population in MISSOURI too small to analyze\nhispanic population in MISSOURI too small to analyze\n\n----------------MONTANA----------------\nblack population in MONTANA too small to analyze\nasian population in MONTANA too small to analyze\nhispanic population in MONTANA too small to analyze\n\n----------------NEBRASKA----------------\nblack population in NEBRASKA too small to analyze\nasian population in NEBRASKA too small to analyze\nhispanic population in NEBRASKA too small to analyze\n\n----------------NEVADA----------------\ndifference white and black: -1.8999999999999915\ndifference white and asian: 18.800000000000004\ndifference white and hispanic: 6.600000000000001\n\n----------------NEW HAMPSHIRE----------------\nblack population in NEW HAMPSHIRE too small to analyze\nasian population in NEW HAMPSHIRE too small to analyze\nhispanic population in NEW HAMPSHIRE too small to analyze\n\n----------------NEW JERSEY----------------\ndifference white and black: 9.300000000000004\ndifference white and asian: 14.000000000000007\ndifference white and hispanic: 23.700000000000003\n\n----------------NEW MEXICO----------------\nblack population in NEW MEXICO too small to analyze\nasian population in NEW MEXICO too small to analyze\ndifference white and hispanic: 21.0\n\n----------------NEW YORK----------------\ndifference white and black: 2.8999999999999986\ndifference white and asian: 26.6\ndifference white and hispanic: 10.5\n\n----------------NORTH CAROLINA----------------\ndifference white and black: 0.4000000000000057\ndifference white and asian: 11.0\ndifference white and hispanic: 16.4\n\n----------------NORTH DAKOTA----------------\nblack population in NORTH DAKOTA too small to analyze\nasian population in NORTH DAKOTA too small to analyze\nhispanic population in NORTH DAKOTA too small to analyze\n\n----------------OHIO----------------\ndifference white and black: -0.7999999999999972\ndifference white and asian: 17.60000000000001\ndifference white and hispanic: 6.6000000000000085\n\n----------------OKLAHOMA----------------\ndifference white and black: 3.200000000000003\nasian population in OKLAHOMA too small to analyze\ndifference white and hispanic: 27.1\n\n----------------OREGON----------------\nblack population in OREGON too small to analyze\nasian population in OREGON too small to analyze\ndifference white and hispanic: 13.899999999999999\n\n----------------PENNSYLVANIA----------------\ndifference white and black: 0.09999999999999432\ndifference white and asian: 3.0\ndifference white and hispanic: 11.599999999999994\n\n----------------RHODE ISLAND----------------\nblack population in RHODE ISLAND too small to analyze\nasian population in RHODE ISLAND too small to analyze\nhispanic population in RHODE ISLAND too small to analyze\n\n----------------SOUTH CAROLINA----------------\ndifference white and black: -3.700000000000003\nasian population in SOUTH CAROLINA too small to analyze\nhispanic population in SOUTH CAROLINA too small to analyze\n\n----------------SOUTH DAKOTA----------------\nblack population in SOUTH DAKOTA too small to analyze\nasian population in SOUTH DAKOTA too small to analyze\nhispanic population in SOUTH DAKOTA too small to analyze\n\n----------------TENNESSEE----------------\ndifference white and black: 6.5\nasian population in TENNESSEE too small to analyze\ndifference white and hispanic: 35.099999999999994\n\n----------------TEXAS----------------\ndifference white and black: 5.699999999999996\ndifference white and asian: 15.600000000000001\ndifference white and hispanic: 22.4\n\n----------------UTAH----------------\nblack population in UTAH too small to analyze\nasian population in UTAH too small to analyze\ndifference white and hispanic: 6.300000000000004\n\n----------------VERMONT----------------\nblack population in VERMONT too small to analyze\nasian population in VERMONT too small to analyze\nhispanic population in VERMONT too small to analyze\n\n----------------VIRGINIA----------------\ndifference white and black: 4.699999999999989\ndifference white and asian: -0.30000000000001137\ndifference white and hispanic: 5.3999999999999915\n\n----------------WASHINGTON----------------\ndifference white and black: 29.1\ndifference white and asian: 2.700000000000003\ndifference white and hispanic: 24.5\n\n----------------WEST VIRGINIA----------------\nblack population in WEST VIRGINIA too small to analyze\nasian population in WEST VIRGINIA too small to analyze\nhispanic population in WEST VIRGINIA too small to analyze\n\n----------------WISCONSIN----------------\ndifference white and black: 27.200000000000003\nasian population in WISCONSIN too small to analyze\ndifference white and hispanic: 31.200000000000003\n\n----------------WYOMING----------------\nblack population in WYOMING too small to analyze\nasian population in WYOMING too small to analyze\nhispanic population in WYOMING too small to analyze\n\n"
    }
   ],
   "source": [
    "print(\"difference between voting rates for whites and other races 2016\")\n",
    "for key in total_percent_voted_2016:\n",
    "    print(\"----------------\" + key + \"----------------\")\n",
    "    try:\n",
    "        black_percent_2016 = float(black_percent_voted_2016[key])\n",
    "        white_percent_2016 = float(white_percent_voted_2016[key])\n",
    "        print(\"difference white and black: \" + str(white_percent_2016 - black_percent_2016))\n",
    "    except:\n",
    "        print(\"black population in \" + key + \" too small to analyze\")\n",
    "    \n",
    "    try:\n",
    "        asian_percent_2016 = float(asian_percent_voted_2016[key])\n",
    "        white_percent_2016 = float(white_percent_voted_2016[key])\n",
    "        print(\"difference white and asian: \" + str(white_percent_2016 - asian_percent_2016))\n",
    "    except:\n",
    "        print(\"asian population in \" + key + \" too small to analyze\")\n",
    "\n",
    "    try:\n",
    "        hispanic_percent_2016 = float(hispanic_percent_voted_2016[key])\n",
    "        white_percent_2016 = float(white_percent_voted_2016[key])\n",
    "        print(\"difference white and hispanic: \" + str(white_percent_2016 - hispanic_percent_2016))\n",
    "    except:\n",
    "        print(\"hispanic population in \" + key + \" too small to analyze\")\n",
    "    \n",
    "    print(\"\")"
   ]
  },
  {
   "cell_type": "code",
   "execution_count": 90,
   "metadata": {},
   "outputs": [
    {
     "output_type": "stream",
     "name": "stdout",
     "text": "difference between voting rates for whites and other races 2012\n----------------All----------------\ndifference white and black: -2.1000000000000085\ndifference white and asian: 16.799999999999997\ndifference white and hispanic: 16.099999999999994\n\n----------------ALABAMA----------------\ndifference white and black: -1.1000000000000014\nasian population in ALABAMA too small to analyze\nhispanic population in ALABAMA too small to analyze\n\n----------------ALASKA----------------\nblack population in ALASKA too small to analyze\nasian population in ALASKA too small to analyze\nhispanic population in ALASKA too small to analyze\n\n----------------ARIZONA----------------\ndifference white and black: 16.4\ndifference white and asian: 35.3\ndifference white and hispanic: 22.0\n\n----------------ARKANSAS----------------\ndifference white and black: 6.300000000000004\nasian population in ARKANSAS too small to analyze\nhispanic population in ARKANSAS too small to analyze\n\n----------------CALIFORNIA----------------\ndifference white and black: 3.1999999999999957\ndifference white and asian: 15.699999999999996\ndifference white and hispanic: 15.799999999999997\n\n----------------COLORADO----------------\ndifference white and black: 19.6\ndifference white and asian: 43.6\ndifference white and hispanic: 23.1\n\n----------------CONNECTICUT----------------\ndifference white and black: 3.5999999999999943\ndifference white and asian: 36.8\ndifference white and hispanic: 18.799999999999997\n\n----------------DELAWARE----------------\ndifference white and black: 6.200000000000003\nasian population in DELAWARE too small to analyze\nhispanic population in DELAWARE too small to analyze\n\n----------------DISTRICT OF COLUMBIA----------------\ndifference white and black: -0.09999999999999432\nasian population in DISTRICT OF COLUMBIA too small to analyze\nhispanic population in DISTRICT OF COLUMBIA too small to analyze\n\n----------------FLORIDA----------------\ndifference white and black: 4.299999999999997\ndifference white and asian: 18.9\ndifference white and hispanic: -0.30000000000000426\n\n----------------GEORGIA----------------\ndifference white and black: -3.0\ndifference white and asian: 20.1\ndifference white and hispanic: 14.200000000000003\n\n----------------HAWAII----------------\nblack population in HAWAII too small to analyze\ndifference white and asian: 18.5\nhispanic population in HAWAII too small to analyze\n\n----------------IDAHO----------------\nblack population in IDAHO too small to analyze\nasian population in IDAHO too small to analyze\nhispanic population in IDAHO too small to analyze\n\n----------------ILLINOIS----------------\ndifference white and black: -9.599999999999994\ndifference white and asian: 6.800000000000004\ndifference white and hispanic: 23.900000000000006\n\n----------------INDIANA----------------\ndifference white and black: -9.100000000000009\nasian population in INDIANA too small to analyze\ndifference white and hispanic: 18.199999999999996\n\n----------------IOWA----------------\nblack population in IOWA too small to analyze\nasian population in IOWA too small to analyze\nhispanic population in IOWA too small to analyze\n\n----------------KANSAS----------------\ndifference white and black: 14.600000000000001\nasian population in KANSAS too small to analyze\ndifference white and hispanic: 36.8\n\n----------------KENTUCKY----------------\ndifference white and black: 2.8000000000000043\nasian population in KENTUCKY too small to analyze\nhispanic population in KENTUCKY too small to analyze\n\n----------------LOUISIANA----------------\ndifference white and black: -4.299999999999997\nasian population in LOUISIANA too small to analyze\nhispanic population in LOUISIANA too small to analyze\n\n----------------MAINE----------------\nblack population in MAINE too small to analyze\nasian population in MAINE too small to analyze\nhispanic population in MAINE too small to analyze\n\n----------------MARYLAND----------------\ndifference white and black: -1.9000000000000057\ndifference white and asian: 15.199999999999996\ndifference white and hispanic: 6.8999999999999915\n\n----------------MASSACHUSETTS----------------\ndifference white and black: 7.6000000000000085\ndifference white and asian: 28.700000000000003\ndifference white and hispanic: 10.5\n\n----------------MICHIGAN----------------\ndifference white and black: 4.6000000000000085\ndifference white and asian: 16.300000000000004\ndifference white and hispanic: -2.3999999999999915\n\n----------------MINNESOTA----------------\ndifference white and black: 12.399999999999999\ndifference white and asian: -3.5999999999999943\ndifference white and hispanic: 28.799999999999997\n\n----------------MISSISSIPPI----------------\ndifference white and black: -10.600000000000009\nasian population in MISSISSIPPI too small to analyze\nhispanic population in MISSISSIPPI too small to analyze\n\n----------------MISSOURI----------------\ndifference white and black: -3.0999999999999943\nasian population in MISSOURI too small to analyze\ndifference white and hispanic: 3.5\n\n----------------MONTANA----------------\nblack population in MONTANA too small to analyze\nasian population in MONTANA too small to analyze\nhispanic population in MONTANA too small to analyze\n\n----------------NEBRASKA----------------\nblack population in NEBRASKA too small to analyze\nasian population in NEBRASKA too small to analyze\nhispanic population in NEBRASKA too small to analyze\n\n----------------NEVADA----------------\ndifference white and black: -1.5\ndifference white and asian: 1.5\ndifference white and hispanic: 8.299999999999997\n\n----------------NEW HAMPSHIRE----------------\nblack population in NEW HAMPSHIRE too small to analyze\nasian population in NEW HAMPSHIRE too small to analyze\nhispanic population in NEW HAMPSHIRE too small to analyze\n\n----------------NEW JERSEY----------------\ndifference white and black: -5.100000000000001\ndifference white and asian: 15.299999999999997\ndifference white and hispanic: 12.299999999999997\n\n----------------NEW MEXICO----------------\nblack population in NEW MEXICO too small to analyze\nasian population in NEW MEXICO too small to analyze\ndifference white and hispanic: 14.299999999999997\n\n----------------NEW YORK----------------\ndifference white and black: -9.800000000000004\ndifference white and asian: 20.199999999999996\ndifference white and hispanic: 5.5\n\n----------------NORTH CAROLINA----------------\ndifference white and black: -13.900000000000006\nasian population in NORTH CAROLINA too small to analyze\ndifference white and hispanic: 10.299999999999997\n\n----------------NORTH DAKOTA----------------\nblack population in NORTH DAKOTA too small to analyze\nasian population in NORTH DAKOTA too small to analyze\nhispanic population in NORTH DAKOTA too small to analyze\n\n----------------OHIO----------------\ndifference white and black: -9.800000000000004\nasian population in OHIO too small to analyze\ndifference white and hispanic: 5.0\n\n----------------OKLAHOMA----------------\ndifference white and black: 1.2999999999999972\nasian population in OKLAHOMA too small to analyze\ndifference white and hispanic: 27.2\n\n----------------OREGON----------------\nblack population in OREGON too small to analyze\nasian population in OREGON too small to analyze\ndifference white and hispanic: 20.200000000000003\n\n----------------PENNSYLVANIA----------------\ndifference white and black: -2.700000000000003\ndifference white and asian: 14.899999999999999\ndifference white and hispanic: 17.4\n\n----------------RHODE ISLAND----------------\nblack population in RHODE ISLAND too small to analyze\nasian population in RHODE ISLAND too small to analyze\nhispanic population in RHODE ISLAND too small to analyze\n\n----------------SOUTH CAROLINA----------------\ndifference white and black: -5.799999999999997\nasian population in SOUTH CAROLINA too small to analyze\nhispanic population in SOUTH CAROLINA too small to analyze\n\n----------------SOUTH DAKOTA----------------\nblack population in SOUTH DAKOTA too small to analyze\nasian population in SOUTH DAKOTA too small to analyze\nhispanic population in SOUTH DAKOTA too small to analyze\n\n----------------TENNESSEE----------------\ndifference white and black: -6.300000000000004\nasian population in TENNESSEE too small to analyze\ndifference white and hispanic: -7.5\n\n----------------TEXAS----------------\ndifference white and black: -2.200000000000003\ndifference white and asian: 18.5\ndifference white and hispanic: 22.1\n\n----------------UTAH----------------\nblack population in UTAH too small to analyze\nasian population in UTAH too small to analyze\ndifference white and hispanic: 28.9\n\n----------------VERMONT----------------\nblack population in VERMONT too small to analyze\nasian population in VERMONT too small to analyze\nhispanic population in VERMONT too small to analyze\n\n----------------VIRGINIA----------------\ndifference white and black: 0.29999999999999716\ndifference white and asian: 14.5\ndifference white and hispanic: 0.7000000000000028\n\n----------------WASHINGTON----------------\ndifference white and black: 19.700000000000003\ndifference white and asian: 2.0\ndifference white and hispanic: 21.4\n\n----------------WEST VIRGINIA----------------\nblack population in WEST VIRGINIA too small to analyze\nasian population in WEST VIRGINIA too small to analyze\nhispanic population in WEST VIRGINIA too small to analyze\n\n----------------WISCONSIN----------------\ndifference white and black: -3.5\nasian population in WISCONSIN too small to analyze\ndifference white and hispanic: 31.1\n\n----------------WYOMING----------------\nblack population in WYOMING too small to analyze\nasian population in WYOMING too small to analyze\nhispanic population in WYOMING too small to analyze\n\n"
    }
   ],
   "source": [
    "print(\"difference between voting rates for whites and other races 2012\")\n",
    "for key in total_percent_voted_2012:\n",
    "    print(\"----------------\" + key + \"----------------\")\n",
    "    try:\n",
    "        black_percent_2012 = float(black_percent_voted_2012[key])\n",
    "        white_percent_2012 = float(white_percent_voted_2012[key])\n",
    "        print(\"difference white and black: \" + str(white_percent_2012 - black_percent_2012))\n",
    "    except:\n",
    "        print(\"black population in \" + key + \" too small to analyze\")\n",
    "    \n",
    "    try:\n",
    "        asian_percent_2012 = float(asian_percent_voted_2012[key])\n",
    "        white_percent_2012 = float(white_percent_voted_2012[key])\n",
    "        print(\"difference white and asian: \" + str(white_percent_2012 - asian_percent_2012))\n",
    "    except:\n",
    "        print(\"asian population in \" + key + \" too small to analyze\")\n",
    "\n",
    "    try:\n",
    "        hispanic_percent_2012 = float(hispanic_percent_voted_2012[key])\n",
    "        white_percent_2012 = float(white_percent_voted_2012[key])\n",
    "        print(\"difference white and hispanic: \" + str(white_percent_2012 - hispanic_percent_2012))\n",
    "    except:\n",
    "        print(\"hispanic population in \" + key + \" too small to analyze\")\n",
    "    \n",
    "    print(\"\")"
   ]
  },
  {
   "cell_type": "code",
   "execution_count": 99,
   "metadata": {},
   "outputs": [
    {
     "output_type": "stream",
     "name": "stdout",
     "text": "difference between voting rates for each race from 2012 to 2016\n----------------US----------------\nwhite difference 2012 to 2016: 1.2000000000000028\nblack difference 2012 to 2016: -6.800000000000004\nasian difference 2012 to 2016: 1.7000000000000028\nhispanic difference 2012 to 2016: -0.3999999999999986\n----------------ALABAMA----------------\nwhite difference 2012 to 2016: -5.0\nblack difference 2012 to 2016: -2.3000000000000043\nasian population in ALABAMA too small to analyze\nhispanic population in ALABAMA too small to analyze\n----------------ALASKA----------------\nwhite difference 2012 to 2016: 4.800000000000004\nblack population in ALASKA too small to analyze\nasian population in ALASKA too small to analyze\nhispanic population in ALASKA too small to analyze\n----------------ARIZONA----------------\nwhite difference 2012 to 2016: 5.899999999999999\nblack difference 2012 to 2016: 4.899999999999999\nasian difference 2012 to 2016: 24.5\nhispanic difference 2012 to 2016: 7.0\n----------------ARKANSAS----------------\nwhite difference 2012 to 2016: 4.5\nblack difference 2012 to 2016: 9.399999999999999\nasian population in ARKANSAS too small to analyze\nhispanic population in ARKANSAS too small to analyze\n----------------CALIFORNIA----------------\nwhite difference 2012 to 2016: 2.799999999999997\nblack difference 2012 to 2016: -12.700000000000003\nasian difference 2012 to 2016: 3.299999999999997\nhispanic difference 2012 to 2016: -1.2999999999999972\n----------------COLORADO----------------\nwhite difference 2012 to 2016: -2.200000000000003\nblack difference 2012 to 2016: 18.499999999999993\nasian difference 2012 to 2016: 1.7999999999999972\nhispanic difference 2012 to 2016: 3.5\n----------------CONNECTICUT----------------\nwhite difference 2012 to 2016: 2.0\nblack difference 2012 to 2016: -8.700000000000003\nasian population in CONNECTICUT too small to analyze\nhispanic difference 2012 to 2016: 0.20000000000000284\n----------------DELAWARE----------------\nwhite difference 2012 to 2016: -3.6000000000000085\nblack difference 2012 to 2016: -7.200000000000003\nasian population in DELAWARE too small to analyze\nhispanic population in DELAWARE too small to analyze\n----------------DISTRICT OF COLUMBIA----------------\nwhite difference 2012 to 2016: 5.200000000000003\nblack difference 2012 to 2016: -8.799999999999997\nasian population in DISTRICT OF COLUMBIA too small to analyze\nhispanic population in DISTRICT OF COLUMBIA too small to analyze\n----------------FLORIDA----------------\nwhite difference 2012 to 2016: 1.8999999999999986\nblack difference 2012 to 2016: -7.100000000000001\nasian difference 2012 to 2016: -2.6000000000000014\nhispanic difference 2012 to 2016: -8.100000000000001\n----------------GEORGIA----------------\nwhite difference 2012 to 2016: 1.7999999999999972\nblack difference 2012 to 2016: -5.299999999999997\nasian difference 2012 to 2016: -10.599999999999998\nhispanic difference 2012 to 2016: 0.10000000000000142\n----------------HAWAII----------------\nwhite difference 2012 to 2016: -6.900000000000006\nblack population in HAWAII too small to analyze\nasian difference 2012 to 2016: -6.100000000000001\nhispanic population in HAWAII too small to analyze\n----------------IDAHO----------------\nwhite difference 2012 to 2016: -1.3000000000000114\nblack population in IDAHO too small to analyze\nasian population in IDAHO too small to analyze\nhispanic population in IDAHO too small to analyze\n----------------ILLINOIS----------------\nwhite difference 2012 to 2016: 5.599999999999994\nblack difference 2012 to 2016: -13.099999999999994\nasian difference 2012 to 2016: -4.100000000000001\nhispanic difference 2012 to 2016: 10.900000000000006\n----------------INDIANA----------------\nwhite difference 2012 to 2016: 0.10000000000000142\nblack difference 2012 to 2016: -16.800000000000004\nasian population in INDIANA too small to analyze\nhispanic difference 2012 to 2016: 4.899999999999999\n----------------IOWA----------------\nwhite difference 2012 to 2016: -5.900000000000006\nblack population in IOWA too small to analyze\nasian population in IOWA too small to analyze\nhispanic population in IOWA too small to analyze\n----------------KANSAS----------------\nwhite difference 2012 to 2016: -1.7000000000000028\nblack difference 2012 to 2016: -7.899999999999999\nasian population in KANSAS too small to analyze\nhispanic difference 2012 to 2016: 18.7\n----------------KENTUCKY----------------\nwhite difference 2012 to 2016: -3.0\nblack difference 2012 to 2016: 12.199999999999996\nasian population in KENTUCKY too small to analyze\nhispanic population in KENTUCKY too small to analyze\n----------------LOUISIANA----------------\nwhite difference 2012 to 2016: -2.700000000000003\nblack difference 2012 to 2016: -8.200000000000003\nasian population in LOUISIANA too small to analyze\nhispanic population in LOUISIANA too small to analyze\n----------------MAINE----------------\nwhite difference 2012 to 2016: 4.200000000000003\nblack population in MAINE too small to analyze\nasian population in MAINE too small to analyze\nhispanic population in MAINE too small to analyze\n----------------MARYLAND----------------\nwhite difference 2012 to 2016: 1.5\nblack difference 2012 to 2016: -0.9000000000000057\nasian difference 2012 to 2016: 4.5\nhispanic difference 2012 to 2016: 0.3999999999999986\n----------------MASSACHUSETTS----------------\nwhite difference 2012 to 2016: -2.9000000000000057\nblack difference 2012 to 2016: 0.20000000000000284\nasian difference 2012 to 2016: 6.299999999999997\nhispanic difference 2012 to 2016: -18.1\n----------------MICHIGAN----------------\nwhite difference 2012 to 2016: -1.4000000000000057\nblack difference 2012 to 2016: -2.299999999999997\nasian difference 2012 to 2016: 2.6000000000000014\nhispanic difference 2012 to 2016: -34.3\n----------------MINNESOTA----------------\nwhite difference 2012 to 2016: -3.5\nblack difference 2012 to 2016: 4.199999999999996\nasian difference 2012 to 2016: -26.499999999999993\nhispanic difference 2012 to 2016: -9.100000000000001\n----------------MISSISSIPPI----------------\nwhite difference 2012 to 2016: -4.099999999999994\nblack difference 2012 to 2016: -13.300000000000011\nasian population in MISSISSIPPI too small to analyze\nhispanic population in MISSISSIPPI too small to analyze\n----------------MISSOURI----------------\nwhite difference 2012 to 2016: 1.5999999999999943\nblack difference 2012 to 2016: -1.0999999999999943\nasian population in MISSOURI too small to analyze\nhispanic population in MISSOURI too small to analyze\n----------------MONTANA----------------\nwhite difference 2012 to 2016: 0.09999999999999432\nblack population in MONTANA too small to analyze\nasian population in MONTANA too small to analyze\nhispanic population in MONTANA too small to analyze\n----------------NEBRASKA----------------\nwhite difference 2012 to 2016: 6.699999999999996\nblack population in NEBRASKA too small to analyze\nasian population in NEBRASKA too small to analyze\nhispanic population in NEBRASKA too small to analyze\n----------------NEVADA----------------\nwhite difference 2012 to 2016: 2.9000000000000057\nblack difference 2012 to 2016: 3.299999999999997\nasian difference 2012 to 2016: -14.399999999999999\nhispanic difference 2012 to 2016: 4.600000000000001\n----------------NEW HAMPSHIRE----------------\nwhite difference 2012 to 2016: -0.29999999999999716\nblack population in NEW HAMPSHIRE too small to analyze\nasian population in NEW HAMPSHIRE too small to analyze\nhispanic population in NEW HAMPSHIRE too small to analyze\n----------------NEW JERSEY----------------\nwhite difference 2012 to 2016: 3.500000000000007\nblack difference 2012 to 2016: -10.899999999999999\nasian difference 2012 to 2016: 4.799999999999997\nhispanic difference 2012 to 2016: -7.899999999999999\n----------------NEW MEXICO----------------\nwhite difference 2012 to 2016: -1.2999999999999972\nblack population in NEW MEXICO too small to analyze\nasian population in NEW MEXICO too small to analyze\nhispanic difference 2012 to 2016: -8.0\n----------------NEW YORK----------------\nwhite difference 2012 to 2016: 1.7000000000000028\nblack difference 2012 to 2016: -11.0\nasian difference 2012 to 2016: -4.700000000000003\nhispanic difference 2012 to 2016: -3.299999999999997\n----------------NORTH CAROLINA----------------\nwhite difference 2012 to 2016: 3.200000000000003\nblack difference 2012 to 2016: -11.100000000000009\nasian population in NORTH CAROLINA too small to analyze\nhispanic difference 2012 to 2016: -2.8999999999999986\n----------------NORTH DAKOTA----------------\nwhite difference 2012 to 2016: 1.9000000000000057\nblack population in NORTH DAKOTA too small to analyze\nasian population in NORTH DAKOTA too small to analyze\nhispanic population in NORTH DAKOTA too small to analyze\n----------------OHIO----------------\nwhite difference 2012 to 2016: 2.500000000000007\nblack difference 2012 to 2016: -6.5\nasian population in OHIO too small to analyze\nhispanic difference 2012 to 2016: 0.8999999999999986\n----------------OKLAHOMA----------------\nwhite difference 2012 to 2016: 4.600000000000001\nblack difference 2012 to 2016: 2.6999999999999957\nasian population in OKLAHOMA too small to analyze\nhispanic difference 2012 to 2016: 4.699999999999999\n----------------OREGON----------------\nwhite difference 2012 to 2016: -1.4000000000000057\nblack population in OREGON too small to analyze\nasian population in OREGON too small to analyze\nhispanic difference 2012 to 2016: 4.899999999999999\n----------------PENNSYLVANIA----------------\nwhite difference 2012 to 2016: 0.7999999999999972\nblack difference 2012 to 2016: -2.0\nasian difference 2012 to 2016: 12.699999999999996\nhispanic difference 2012 to 2016: 6.600000000000001\n----------------RHODE ISLAND----------------\nwhite difference 2012 to 2016: -1.5999999999999943\nblack population in RHODE ISLAND too small to analyze\nasian population in RHODE ISLAND too small to analyze\nhispanic population in RHODE ISLAND too small to analyze\n----------------SOUTH CAROLINA----------------\nwhite difference 2012 to 2016: -2.0\nblack difference 2012 to 2016: -4.099999999999994\nasian population in SOUTH CAROLINA too small to analyze\nhispanic population in SOUTH CAROLINA too small to analyze\n----------------SOUTH DAKOTA----------------\nwhite difference 2012 to 2016: -2.3999999999999986\nblack population in SOUTH DAKOTA too small to analyze\nasian population in SOUTH DAKOTA too small to analyze\nhispanic population in SOUTH DAKOTA too small to analyze\n----------------TENNESSEE----------------\nwhite difference 2012 to 2016: 2.0\nblack difference 2012 to 2016: -10.800000000000004\nasian population in TENNESSEE too small to analyze\nhispanic difference 2012 to 2016: -40.599999999999994\n----------------TEXAS----------------\nwhite difference 2012 to 2016: 2.0\nblack difference 2012 to 2016: -5.899999999999999\nasian difference 2012 to 2016: 4.899999999999999\nhispanic difference 2012 to 2016: 1.7000000000000028\n----------------UTAH----------------\nwhite difference 2012 to 2016: 3.4000000000000057\nblack population in UTAH too small to analyze\nasian population in UTAH too small to analyze\nhispanic difference 2012 to 2016: 26.0\n----------------VERMONT----------------\nwhite difference 2012 to 2016: -0.10000000000000142\nblack population in VERMONT too small to analyze\nasian population in VERMONT too small to analyze\nhispanic population in VERMONT too small to analyze\n----------------VIRGINIA----------------\nwhite difference 2012 to 2016: 2.0999999999999943\nblack difference 2012 to 2016: -2.299999999999997\nasian difference 2012 to 2016: 16.900000000000006\nhispanic difference 2012 to 2016: -2.5999999999999943\n----------------WASHINGTON----------------\nwhite difference 2012 to 2016: 3.700000000000003\nblack difference 2012 to 2016: -5.699999999999996\nasian difference 2012 to 2016: 3.0\nhispanic difference 2012 to 2016: 0.6000000000000014\n----------------WEST VIRGINIA----------------\nwhite difference 2012 to 2016: 2.6000000000000014\nblack population in WEST VIRGINIA too small to analyze\nasian population in WEST VIRGINIA too small to analyze\nhispanic population in WEST VIRGINIA too small to analyze\n----------------WISCONSIN----------------\nwhite difference 2012 to 2016: -1.0\nblack difference 2012 to 2016: -31.700000000000003\nasian population in WISCONSIN too small to analyze\nhispanic difference 2012 to 2016: -1.1000000000000014\n----------------WYOMING----------------\nwhite difference 2012 to 2016: 4.5\nblack population in WYOMING too small to analyze\nasian population in WYOMING too small to analyze\nhispanic population in WYOMING too small to analyze\nnumber of states where white voting went down: 21\nnumber of states where black voting went down: 26\nnumber of states where asian voting went down: 7\nnumber of states where hispanic voting went down: 12\n"
    }
   ],
   "source": [
    "print(\"difference between voting rates for each race from 2012 to 2016\")\n",
    "\n",
    "white_diff = 0\n",
    "black_diff = 0\n",
    "asian_diff = 0\n",
    "hispanic_diff = 0\n",
    "\n",
    "for key in total_percent_voted_2016:\n",
    "    print(\"----------------\" + key + \"----------------\")\n",
    "    if key == 'US':\n",
    "        key2 = 'All'\n",
    "    else:\n",
    "        key2 = key\n",
    "    try:\n",
    "        white_percent_2012 = float(white_percent_voted_2012[key2])\n",
    "        white_percent_2016 = float(white_percent_voted_2016[key])\n",
    "        print(\"white difference 2012 to 2016: \" + str(white_percent_2016 - white_percent_2012))\n",
    "        if(white_percent_2016 - white_percent_2012 < 0 and key != 'US'):\n",
    "            white_diff += 1\n",
    "    except:\n",
    "        print(\"white population in \" + key + \" too small to analyze\")\n",
    "    \n",
    "    try:\n",
    "        black_percent_2012 = float(black_percent_voted_2012[key2])\n",
    "        black_percent_2016 = float(black_percent_voted_2016[key])\n",
    "        print(\"black difference 2012 to 2016: \" + str(black_percent_2016 - black_percent_2012))\n",
    "        if(black_percent_2016 - black_percent_2012 < 0 and key != 'US'):\n",
    "            black_diff += 1\n",
    "    except:\n",
    "        print(\"black population in \" + key + \" too small to analyze\")\n",
    "    \n",
    "    try:\n",
    "        asian_percent_2012 = float(asian_percent_voted_2012[key2])\n",
    "        asian_percent_2016 = float(asian_percent_voted_2016[key])\n",
    "        print(\"asian difference 2012 to 2016: \" + str(asian_percent_2016 - asian_percent_2012))\n",
    "        if(asian_percent_2016 - asian_percent_2012 < 0 and key != 'US'):\n",
    "            asian_diff += 1\n",
    "    except:\n",
    "        print(\"asian population in \" + key + \" too small to analyze\")\n",
    "    \n",
    "    try:\n",
    "        hispanic_percent_2012 = float(hispanic_percent_voted_2012[key2])\n",
    "        hispanic_percent_2016 = float(hispanic_percent_voted_2016[key])\n",
    "        print(\"hispanic difference 2012 to 2016: \" + str(hispanic_percent_2016 - hispanic_percent_2012))\n",
    "        if(hispanic_percent_2016 - hispanic_percent_2012 < 0 and key != 'US'):\n",
    "            hispanic_diff += 1\n",
    "    except:\n",
    "        print(\"hispanic population in \" + key + \" too small to analyze\")\n",
    "\n",
    "print(\"number of states where white voting went down: \" + str(white_diff))\n",
    "print(\"number of states where black voting went down: \" + str(black_diff))\n",
    "print(\"number of states where asian voting went down: \" + str(asian_diff))\n",
    "print(\"number of states where hispanic voting went down: \" + str(hispanic_diff))\n"
   ]
  },
  {
   "cell_type": "code",
   "execution_count": null,
   "metadata": {},
   "outputs": [],
   "source": []
  }
 ],
 "metadata": {
  "language_info": {
   "codemirror_mode": {
    "name": "ipython",
    "version": 3
   },
   "file_extension": ".py",
   "mimetype": "text/x-python",
   "name": "python",
   "nbconvert_exporter": "python",
   "pygments_lexer": "ipython3",
   "version": "3.7.6-final"
  },
  "orig_nbformat": 2,
  "kernelspec": {
   "name": "python3",
   "display_name": "Python 3"
  }
 },
 "nbformat": 4,
 "nbformat_minor": 2
}